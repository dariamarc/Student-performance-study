{
 "cells": [
  {
   "cell_type": "markdown",
   "id": "4af262b7",
   "metadata": {},
   "source": [
    "# Student performance study\n",
    "\n",
    "#### Anastasia-Daria Marc\n",
    "\n",
    "Dataset source from https://www.kaggle.com/datasets/larsen0966/student-performance-data-set."
   ]
  },
  {
   "cell_type": "code",
   "execution_count": 1,
   "id": "87f5e138",
   "metadata": {},
   "outputs": [],
   "source": [
    "import pandas as pd\n",
    "import numpy as np\n",
    "import matplotlib.pyplot as plt\n",
    "import seaborn as sns\n",
    "sns.set()"
   ]
  },
  {
   "cell_type": "code",
   "execution_count": 96,
   "id": "8667e191",
   "metadata": {},
   "outputs": [
    {
     "data": {
      "text/html": [
       "<div>\n",
       "<style scoped>\n",
       "    .dataframe tbody tr th:only-of-type {\n",
       "        vertical-align: middle;\n",
       "    }\n",
       "\n",
       "    .dataframe tbody tr th {\n",
       "        vertical-align: top;\n",
       "    }\n",
       "\n",
       "    .dataframe thead th {\n",
       "        text-align: right;\n",
       "    }\n",
       "</style>\n",
       "<table border=\"1\" class=\"dataframe\">\n",
       "  <thead>\n",
       "    <tr style=\"text-align: right;\">\n",
       "      <th></th>\n",
       "      <th>school</th>\n",
       "      <th>sex</th>\n",
       "      <th>age</th>\n",
       "      <th>address</th>\n",
       "      <th>famsize</th>\n",
       "      <th>Pstatus</th>\n",
       "      <th>Medu</th>\n",
       "      <th>Fedu</th>\n",
       "      <th>Mjob</th>\n",
       "      <th>Fjob</th>\n",
       "      <th>...</th>\n",
       "      <th>famrel</th>\n",
       "      <th>freetime</th>\n",
       "      <th>goout</th>\n",
       "      <th>Dalc</th>\n",
       "      <th>Walc</th>\n",
       "      <th>health</th>\n",
       "      <th>absences</th>\n",
       "      <th>G1</th>\n",
       "      <th>G2</th>\n",
       "      <th>G3</th>\n",
       "    </tr>\n",
       "  </thead>\n",
       "  <tbody>\n",
       "    <tr>\n",
       "      <th>0</th>\n",
       "      <td>GP</td>\n",
       "      <td>F</td>\n",
       "      <td>18</td>\n",
       "      <td>U</td>\n",
       "      <td>GT3</td>\n",
       "      <td>A</td>\n",
       "      <td>4</td>\n",
       "      <td>4</td>\n",
       "      <td>at_home</td>\n",
       "      <td>teacher</td>\n",
       "      <td>...</td>\n",
       "      <td>4</td>\n",
       "      <td>3</td>\n",
       "      <td>4</td>\n",
       "      <td>1</td>\n",
       "      <td>1</td>\n",
       "      <td>3</td>\n",
       "      <td>6</td>\n",
       "      <td>5</td>\n",
       "      <td>6</td>\n",
       "      <td>6</td>\n",
       "    </tr>\n",
       "    <tr>\n",
       "      <th>1</th>\n",
       "      <td>GP</td>\n",
       "      <td>F</td>\n",
       "      <td>17</td>\n",
       "      <td>U</td>\n",
       "      <td>GT3</td>\n",
       "      <td>T</td>\n",
       "      <td>1</td>\n",
       "      <td>1</td>\n",
       "      <td>at_home</td>\n",
       "      <td>other</td>\n",
       "      <td>...</td>\n",
       "      <td>5</td>\n",
       "      <td>3</td>\n",
       "      <td>3</td>\n",
       "      <td>1</td>\n",
       "      <td>1</td>\n",
       "      <td>3</td>\n",
       "      <td>4</td>\n",
       "      <td>5</td>\n",
       "      <td>5</td>\n",
       "      <td>6</td>\n",
       "    </tr>\n",
       "    <tr>\n",
       "      <th>2</th>\n",
       "      <td>GP</td>\n",
       "      <td>F</td>\n",
       "      <td>15</td>\n",
       "      <td>U</td>\n",
       "      <td>LE3</td>\n",
       "      <td>T</td>\n",
       "      <td>1</td>\n",
       "      <td>1</td>\n",
       "      <td>at_home</td>\n",
       "      <td>other</td>\n",
       "      <td>...</td>\n",
       "      <td>4</td>\n",
       "      <td>3</td>\n",
       "      <td>2</td>\n",
       "      <td>2</td>\n",
       "      <td>3</td>\n",
       "      <td>3</td>\n",
       "      <td>10</td>\n",
       "      <td>7</td>\n",
       "      <td>8</td>\n",
       "      <td>10</td>\n",
       "    </tr>\n",
       "    <tr>\n",
       "      <th>3</th>\n",
       "      <td>GP</td>\n",
       "      <td>F</td>\n",
       "      <td>15</td>\n",
       "      <td>U</td>\n",
       "      <td>GT3</td>\n",
       "      <td>T</td>\n",
       "      <td>4</td>\n",
       "      <td>2</td>\n",
       "      <td>health</td>\n",
       "      <td>services</td>\n",
       "      <td>...</td>\n",
       "      <td>3</td>\n",
       "      <td>2</td>\n",
       "      <td>2</td>\n",
       "      <td>1</td>\n",
       "      <td>1</td>\n",
       "      <td>5</td>\n",
       "      <td>2</td>\n",
       "      <td>15</td>\n",
       "      <td>14</td>\n",
       "      <td>15</td>\n",
       "    </tr>\n",
       "    <tr>\n",
       "      <th>4</th>\n",
       "      <td>GP</td>\n",
       "      <td>F</td>\n",
       "      <td>16</td>\n",
       "      <td>U</td>\n",
       "      <td>GT3</td>\n",
       "      <td>T</td>\n",
       "      <td>3</td>\n",
       "      <td>3</td>\n",
       "      <td>other</td>\n",
       "      <td>other</td>\n",
       "      <td>...</td>\n",
       "      <td>4</td>\n",
       "      <td>3</td>\n",
       "      <td>2</td>\n",
       "      <td>1</td>\n",
       "      <td>2</td>\n",
       "      <td>5</td>\n",
       "      <td>4</td>\n",
       "      <td>6</td>\n",
       "      <td>10</td>\n",
       "      <td>10</td>\n",
       "    </tr>\n",
       "  </tbody>\n",
       "</table>\n",
       "<p>5 rows × 33 columns</p>\n",
       "</div>"
      ],
      "text/plain": [
       "  school sex  age address famsize Pstatus  Medu  Fedu     Mjob      Fjob  ...  \\\n",
       "0     GP   F   18       U     GT3       A     4     4  at_home   teacher  ...   \n",
       "1     GP   F   17       U     GT3       T     1     1  at_home     other  ...   \n",
       "2     GP   F   15       U     LE3       T     1     1  at_home     other  ...   \n",
       "3     GP   F   15       U     GT3       T     4     2   health  services  ...   \n",
       "4     GP   F   16       U     GT3       T     3     3    other     other  ...   \n",
       "\n",
       "  famrel freetime  goout  Dalc  Walc health absences  G1  G2  G3  \n",
       "0      4        3      4     1     1      3        6   5   6   6  \n",
       "1      5        3      3     1     1      3        4   5   5   6  \n",
       "2      4        3      2     2     3      3       10   7   8  10  \n",
       "3      3        2      2     1     1      5        2  15  14  15  \n",
       "4      4        3      2     1     2      5        4   6  10  10  \n",
       "\n",
       "[5 rows x 33 columns]"
      ]
     },
     "execution_count": 96,
     "metadata": {},
     "output_type": "execute_result"
    }
   ],
   "source": [
    "df = pd.read_csv(\"student_data.csv\")\n",
    "df.head()"
   ]
  },
  {
   "cell_type": "code",
   "execution_count": 97,
   "id": "3a049688",
   "metadata": {},
   "outputs": [
    {
     "data": {
      "text/plain": [
       "(395, 33)"
      ]
     },
     "execution_count": 97,
     "metadata": {},
     "output_type": "execute_result"
    }
   ],
   "source": [
    "df.shape"
   ]
  },
  {
   "cell_type": "code",
   "execution_count": 98,
   "id": "9303f7ea",
   "metadata": {},
   "outputs": [
    {
     "name": "stdout",
     "output_type": "stream",
     "text": [
      "<class 'pandas.core.frame.DataFrame'>\n",
      "RangeIndex: 395 entries, 0 to 394\n",
      "Data columns (total 33 columns):\n",
      " #   Column      Non-Null Count  Dtype \n",
      "---  ------      --------------  ----- \n",
      " 0   school      395 non-null    object\n",
      " 1   sex         395 non-null    object\n",
      " 2   age         395 non-null    int64 \n",
      " 3   address     395 non-null    object\n",
      " 4   famsize     395 non-null    object\n",
      " 5   Pstatus     395 non-null    object\n",
      " 6   Medu        395 non-null    int64 \n",
      " 7   Fedu        395 non-null    int64 \n",
      " 8   Mjob        395 non-null    object\n",
      " 9   Fjob        395 non-null    object\n",
      " 10  reason      395 non-null    object\n",
      " 11  guardian    395 non-null    object\n",
      " 12  traveltime  395 non-null    int64 \n",
      " 13  studytime   395 non-null    int64 \n",
      " 14  failures    395 non-null    int64 \n",
      " 15  schoolsup   395 non-null    object\n",
      " 16  famsup      395 non-null    object\n",
      " 17  paid        395 non-null    object\n",
      " 18  activities  395 non-null    object\n",
      " 19  nursery     395 non-null    object\n",
      " 20  higher      395 non-null    object\n",
      " 21  internet    395 non-null    object\n",
      " 22  romantic    395 non-null    object\n",
      " 23  famrel      395 non-null    int64 \n",
      " 24  freetime    395 non-null    int64 \n",
      " 25  goout       395 non-null    int64 \n",
      " 26  Dalc        395 non-null    int64 \n",
      " 27  Walc        395 non-null    int64 \n",
      " 28  health      395 non-null    int64 \n",
      " 29  absences    395 non-null    int64 \n",
      " 30  G1          395 non-null    int64 \n",
      " 31  G2          395 non-null    int64 \n",
      " 32  G3          395 non-null    int64 \n",
      "dtypes: int64(16), object(17)\n",
      "memory usage: 102.0+ KB\n"
     ]
    }
   ],
   "source": [
    "df.info()"
   ]
  },
  {
   "cell_type": "code",
   "execution_count": 103,
   "id": "b58ce535",
   "metadata": {},
   "outputs": [],
   "source": [
    "data = df.copy()\n",
    "data['final_grade'] = (df['G1'] + df['G2'] + df['G3']) / 3"
   ]
  },
  {
   "cell_type": "code",
   "execution_count": 104,
   "id": "f3c94e93",
   "metadata": {},
   "outputs": [
    {
     "data": {
      "text/plain": [
       "19.333333333333332"
      ]
     },
     "execution_count": 104,
     "metadata": {},
     "output_type": "execute_result"
    }
   ],
   "source": [
    "data.final_grade.max()"
   ]
  },
  {
   "cell_type": "code",
   "execution_count": 105,
   "id": "3b2e1e35",
   "metadata": {},
   "outputs": [
    {
     "data": {
      "text/plain": [
       "1.3333333333333333"
      ]
     },
     "execution_count": 105,
     "metadata": {},
     "output_type": "execute_result"
    }
   ],
   "source": [
    "data.final_grade.min()"
   ]
  },
  {
   "cell_type": "markdown",
   "id": "703f2c5d",
   "metadata": {},
   "source": [
    "We will assume that the maximum possible grade is 20 and the minimum is 10. So we consider students that have passed the exam have a grade >= 10."
   ]
  },
  {
   "cell_type": "code",
   "execution_count": 107,
   "id": "a64ad837",
   "metadata": {},
   "outputs": [
    {
     "name": "stderr",
     "output_type": "stream",
     "text": [
      "<ipython-input-107-4ff1890ff541>:5: SettingWithCopyWarning: \n",
      "A value is trying to be set on a copy of a slice from a DataFrame\n",
      "\n",
      "See the caveats in the documentation: https://pandas.pydata.org/pandas-docs/stable/user_guide/indexing.html#returning-a-view-versus-a-copy\n",
      "  data['exam_passed'][grade_idx] = 1\n"
     ]
    }
   ],
   "source": [
    "data['exam_passed'] = 0\n",
    "\n",
    "for grade_idx in data['final_grade'].index:\n",
    "    if data['final_grade'][grade_idx] >= 10:\n",
    "        data['exam_passed'][grade_idx] = 1\n",
    "#     else:\n",
    "#         df['exam_passed'][grade_idx] = 0"
   ]
  },
  {
   "cell_type": "code",
   "execution_count": 108,
   "id": "80d83618",
   "metadata": {},
   "outputs": [
    {
     "data": {
      "text/plain": [
       "0      0\n",
       "1      0\n",
       "2      0\n",
       "3      1\n",
       "4      0\n",
       "      ..\n",
       "390    0\n",
       "391    1\n",
       "392    0\n",
       "393    1\n",
       "394    0\n",
       "Name: exam_passed, Length: 395, dtype: int64"
      ]
     },
     "execution_count": 108,
     "metadata": {},
     "output_type": "execute_result"
    }
   ],
   "source": [
    "data['exam_passed']"
   ]
  },
  {
   "cell_type": "markdown",
   "id": "655d2239",
   "metadata": {},
   "source": [
    "The dataset doesn't provide information about many variables, so we will remove some of the columns."
   ]
  },
  {
   "cell_type": "code",
   "execution_count": 109,
   "id": "0c71330e",
   "metadata": {},
   "outputs": [],
   "source": [
    "data.drop(['address', 'Pstatus','reason',\n",
    "       'failures', 'schoolsup', 'famsup', 'paid', 'activities', 'nursery',\n",
    "       'higher', 'internet', 'romantic', 'famrel', 'freetime', 'goout','Dalc',\n",
    "       'Walc', 'guardian'], axis =1, inplace=True)"
   ]
  },
  {
   "cell_type": "markdown",
   "id": "05f17a21",
   "metadata": {},
   "source": [
    "## Exploratory data analysis"
   ]
  },
  {
   "cell_type": "code",
   "execution_count": 110,
   "id": "03985712",
   "metadata": {},
   "outputs": [
    {
     "data": {
      "text/plain": [
       "<matplotlib.legend.Legend at 0x1cc6fc4f670>"
      ]
     },
     "execution_count": 110,
     "metadata": {},
     "output_type": "execute_result"
    },
    {
     "data": {
      "image/png": "[encoded data removed]",
      "text/plain": [
       "<Figure size 720x576 with 1 Axes>"
      ]
     },
     "metadata": {},
     "output_type": "display_data"
    }
   ],
   "source": [
    "plt.figure(figsize=(10,8))\n",
    "data.school.value_counts().plot(kind='pie', autopct='%.0f%%')\n",
    "plt.title('School proportions')\n",
    "plt.legend()"
   ]
  },
  {
   "cell_type": "code",
   "execution_count": 111,
   "id": "87237945",
   "metadata": {},
   "outputs": [
    {
     "data": {
      "text/plain": [
       "<matplotlib.legend.Legend at 0x1cc6fc96a00>"
      ]
     },
     "execution_count": 111,
     "metadata": {},
     "output_type": "execute_result"
    },
    {
     "data": {
      "image/png": "[encoded data removed]",
      "text/plain": [
       "<Figure size 720x576 with 1 Axes>"
      ]
     },
     "metadata": {},
     "output_type": "display_data"
    }
   ],
   "source": [
    "plt.figure(figsize=(10,8))\n",
    "data.sex.value_counts().plot(kind='pie', autopct='%.0f%%')\n",
    "plt.title('Gender')\n",
    "plt.legend()"
   ]
  },
  {
   "cell_type": "code",
   "execution_count": 112,
   "id": "a3c1defd",
   "metadata": {},
   "outputs": [
    {
     "data": {
      "text/plain": [
       "<matplotlib.legend.Legend at 0x1cc6fcd5c70>"
      ]
     },
     "execution_count": 112,
     "metadata": {},
     "output_type": "execute_result"
    },
    {
     "data": {
      "image/png": "[encoded data removed]",
      "text/plain": [
       "<Figure size 720x576 with 1 Axes>"
      ]
     },
     "metadata": {},
     "output_type": "display_data"
    }
   ],
   "source": [
    "plt.figure(figsize=(10,8))\n",
    "data.exam_passed.value_counts().plot(kind='pie', autopct='%.0f%%')\n",
    "plt.title('Success for passing the exam')\n",
    "plt.legend()"
   ]
  },
  {
   "cell_type": "code",
   "execution_count": 113,
   "id": "3eb48007",
   "metadata": {},
   "outputs": [
    {
     "data": {
      "text/plain": [
       "Text(0.5, 1.0, 'Age Distribution')"
      ]
     },
     "execution_count": 113,
     "metadata": {},
     "output_type": "execute_result"
    },
    {
     "data": {
      "image/png": "[encoded data removed]",
      "text/plain": [
       "<Figure size 720x576 with 1 Axes>"
      ]
     },
     "metadata": {},
     "output_type": "display_data"
    }
   ],
   "source": [
    "plt.figure(figsize=(10,8))\n",
    "sns.histplot(data = data, x='age', bins=8)\n",
    "plt.title('Age Distribution')"
   ]
  },
  {
   "cell_type": "code",
   "execution_count": 114,
   "id": "46da91dd",
   "metadata": {},
   "outputs": [
    {
     "data": {
      "text/plain": [
       "Text(0.5, 1.0, 'Family size')"
      ]
     },
     "execution_count": 114,
     "metadata": {},
     "output_type": "execute_result"
    },
    {
     "data": {
      "image/png": "[encoded data removed]",
      "text/plain": [
       "<Figure size 720x576 with 1 Axes>"
      ]
     },
     "metadata": {},
     "output_type": "display_data"
    }
   ],
   "source": [
    "plt.figure(figsize=(10,8))\n",
    "sns.countplot(data = data, x='famsize', order = df.famsize.value_counts().index)\n",
    "plt.title('Family size')"
   ]
  },
  {
   "cell_type": "code",
   "execution_count": 115,
   "id": "1e1fd911",
   "metadata": {},
   "outputs": [
    {
     "data": {
      "text/plain": [
       "Text(0.5, 1.0, \"Father's Education\")"
      ]
     },
     "execution_count": 115,
     "metadata": {},
     "output_type": "execute_result"
    },
    {
     "data": {
      "image/png": "[encoded data removed]",
      "text/plain": [
       "<Figure size 1080x576 with 2 Axes>"
      ]
     },
     "metadata": {},
     "output_type": "display_data"
    }
   ],
   "source": [
    "fig, axes = plt.subplots(1, 2, figsize=(15, 8),sharey=True)\n",
    "\n",
    "# mother education\n",
    "sns.countplot(ax=axes[0], data = data, x='Medu')\n",
    "axes[0].set_title('Mother\\'s Education')\n",
    "\n",
    "# father education\n",
    "sns.countplot(ax=axes[1], data = data, x='Fedu')\n",
    "axes[1].set_title('Father\\'s Education')"
   ]
  },
  {
   "cell_type": "code",
   "execution_count": 116,
   "id": "6bddc4dd",
   "metadata": {},
   "outputs": [
    {
     "data": {
      "text/plain": [
       "Text(0.5, 1.0, \"Father's Job\")"
      ]
     },
     "execution_count": 116,
     "metadata": {},
     "output_type": "execute_result"
    },
    {
     "data": {
      "image/png": "[encoded data removed]",
      "text/plain": [
       "<Figure size 1080x576 with 2 Axes>"
      ]
     },
     "metadata": {},
     "output_type": "display_data"
    }
   ],
   "source": [
    "fig, axes = plt.subplots(1, 2, figsize=(15, 8), sharey=True)\n",
    "order2 = ['at_home','teacher','health','services','other']\n",
    "\n",
    "# Mother's job\n",
    "sns.countplot(ax=axes[0], data = data, x='Mjob', order=order2)\n",
    "axes[0].set_title('Mother\\'s Job')\n",
    "\n",
    "# Father's job\n",
    "sns.countplot(ax=axes[1], data = data, x='Fjob', order=order2)\n",
    "axes[1].set_title('Father\\'s Job')"
   ]
  },
  {
   "cell_type": "code",
   "execution_count": 117,
   "id": "80024c39",
   "metadata": {},
   "outputs": [
    {
     "data": {
      "text/plain": [
       "Text(0.5, 1.0, 'Study time')"
      ]
     },
     "execution_count": 117,
     "metadata": {},
     "output_type": "execute_result"
    },
    {
     "data": {
      "image/png": "[encoded data removed]",
      "text/plain": [
       "<Figure size 1080x576 with 2 Axes>"
      ]
     },
     "metadata": {},
     "output_type": "display_data"
    }
   ],
   "source": [
    "fig, axes = plt.subplots(1, 2, figsize=(15, 8), sharey=True)\n",
    "order2 = [1,2,3,4]\n",
    "\n",
    "# Mjob\n",
    "sns.countplot(ax=axes[0], data = data, x='traveltime', order=order2)\n",
    "axes[0].set_title('Travel time')\n",
    "\n",
    "# Fjob\n",
    "sns.countplot(ax=axes[1], data = data, x='studytime', order=order2)\n",
    "axes[1].set_title('Study time')"
   ]
  },
  {
   "cell_type": "code",
   "execution_count": 118,
   "id": "2e406c7d",
   "metadata": {},
   "outputs": [
    {
     "data": {
      "text/plain": [
       "Text(0.5, 1.0, 'Health')"
      ]
     },
     "execution_count": 118,
     "metadata": {},
     "output_type": "execute_result"
    },
    {
     "data": {
      "image/png": "[encoded data removed]",
      "text/plain": [
       "<Figure size 720x576 with 1 Axes>"
      ]
     },
     "metadata": {},
     "output_type": "display_data"
    }
   ],
   "source": [
    "plt.figure(figsize=(10,8))\n",
    "sns.countplot(data = data, x='health')\n",
    "plt.title('Health')"
   ]
  },
  {
   "cell_type": "code",
   "execution_count": 119,
   "id": "94669e2d",
   "metadata": {},
   "outputs": [
    {
     "data": {
      "text/plain": [
       "Text(0.5, 1.0, 'Absences Distributiion')"
      ]
     },
     "execution_count": 119,
     "metadata": {},
     "output_type": "execute_result"
    },
    {
     "data": {
      "image/png": "[encoded data removed]",
      "text/plain": [
       "<Figure size 720x576 with 1 Axes>"
      ]
     },
     "metadata": {},
     "output_type": "display_data"
    }
   ],
   "source": [
    "plt.figure(figsize=(10,8))\n",
    "sns.histplot(data = data, x='absences', bins=15)\n",
    "plt.title('Absences Distributiion')"
   ]
  },
  {
   "cell_type": "code",
   "execution_count": 120,
   "id": "ca14551c",
   "metadata": {},
   "outputs": [
    {
     "data": {
      "text/plain": [
       "Text(0.5, 1.0, 'Final grade Distribution')"
      ]
     },
     "execution_count": 120,
     "metadata": {},
     "output_type": "execute_result"
    },
    {
     "data": {
      "image/png": "[encoded data removed]",
      "text/plain": [
       "<Figure size 720x576 with 1 Axes>"
      ]
     },
     "metadata": {},
     "output_type": "display_data"
    }
   ],
   "source": [
    "plt.figure(figsize=(10,8))\n",
    "sns.histplot(data = data, x='final_grade')\n",
    "plt.title('Final grade Distribution')"
   ]
  },
  {
   "cell_type": "code",
   "execution_count": 121,
   "id": "752a48b3",
   "metadata": {},
   "outputs": [
    {
     "data": {
      "text/plain": [
       "Text(0.5, 1.0, 'Correlation heatmap')"
      ]
     },
     "execution_count": 121,
     "metadata": {},
     "output_type": "execute_result"
    },
    {
     "data": {
      "image/png": "[encoded data removed]",
      "text/plain": [
       "<Figure size 864x720 with 2 Axes>"
      ]
     },
     "metadata": {},
     "output_type": "display_data"
    }
   ],
   "source": [
    "plt.figure(figsize = (12,10))\n",
    "\n",
    "sns.heatmap(data.corr(), center=0, linewidths=1, annot=True, fmt='.2f', vmin=-1, vmax=1)\n",
    "plt.title('Correlation heatmap')"
   ]
  },
  {
   "cell_type": "code",
   "execution_count": 122,
   "id": "1ebdd2fb",
   "metadata": {},
   "outputs": [],
   "source": [
    "data.to_csv('student_performance_data.csv')"
   ]
  },
  {
   "cell_type": "markdown",
   "id": "9cad0ec2",
   "metadata": {},
   "source": [
    "## Preparation of dataset for attribute exploration"
   ]
  },
  {
   "cell_type": "code",
   "execution_count": 147,
   "id": "0ff81388",
   "metadata": {},
   "outputs": [
    {
     "name": "stderr",
     "output_type": "stream",
     "text": [
      "<ipython-input-147-4bda43441b07>:8: SettingWithCopyWarning: \n",
      "A value is trying to be set on a copy of a slice from a DataFrame\n",
      "\n",
      "See the caveats in the documentation: https://pandas.pydata.org/pandas-docs/stable/user_guide/indexing.html#returning-a-view-versus-a-copy\n",
      "  data_exp['exam_passed'][grade_idx] = 1\n"
     ]
    }
   ],
   "source": [
    "data_exp = df.copy()\n",
    "data_exp['final_grade'] = (df['G1'] + df['G2'] + df['G3']) / 3\n",
    "\n",
    "data_exp['exam_passed'] = 0\n",
    "\n",
    "for grade_idx in data_exp['final_grade'].index:\n",
    "    if data_exp['final_grade'][grade_idx] >= 10:\n",
    "        data_exp['exam_passed'][grade_idx] = 1"
   ]
  },
  {
   "cell_type": "code",
   "execution_count": 148,
   "id": "c5da486b",
   "metadata": {},
   "outputs": [],
   "source": [
    "data_exp.drop(['address', 'Pstatus','reason', 'famsize',\n",
    "       'failures', 'activities', 'nursery',\n",
    "       'higher', 'internet', 'romantic', 'famrel', 'freetime', 'goout','Dalc',\n",
    "       'Walc', 'guardian', 'school', 'age', 'Mjob', 'Fjob', 'absences', 'G1', 'G2', 'G3', 'sex', 'health', 'traveltime', 'studytime'], axis =1, inplace=True)"
   ]
  },
  {
   "cell_type": "code",
   "execution_count": 149,
   "id": "5609808d",
   "metadata": {},
   "outputs": [
    {
     "data": {
      "text/html": [
       "<div>\n",
       "<style scoped>\n",
       "    .dataframe tbody tr th:only-of-type {\n",
       "        vertical-align: middle;\n",
       "    }\n",
       "\n",
       "    .dataframe tbody tr th {\n",
       "        vertical-align: top;\n",
       "    }\n",
       "\n",
       "    .dataframe thead th {\n",
       "        text-align: right;\n",
       "    }\n",
       "</style>\n",
       "<table border=\"1\" class=\"dataframe\">\n",
       "  <thead>\n",
       "    <tr style=\"text-align: right;\">\n",
       "      <th></th>\n",
       "      <th>Medu</th>\n",
       "      <th>Fedu</th>\n",
       "      <th>schoolsup</th>\n",
       "      <th>famsup</th>\n",
       "      <th>paid</th>\n",
       "      <th>final_grade</th>\n",
       "      <th>exam_passed</th>\n",
       "    </tr>\n",
       "  </thead>\n",
       "  <tbody>\n",
       "    <tr>\n",
       "      <th>0</th>\n",
       "      <td>4</td>\n",
       "      <td>4</td>\n",
       "      <td>yes</td>\n",
       "      <td>no</td>\n",
       "      <td>no</td>\n",
       "      <td>5.666667</td>\n",
       "      <td>0</td>\n",
       "    </tr>\n",
       "    <tr>\n",
       "      <th>1</th>\n",
       "      <td>1</td>\n",
       "      <td>1</td>\n",
       "      <td>no</td>\n",
       "      <td>yes</td>\n",
       "      <td>no</td>\n",
       "      <td>5.333333</td>\n",
       "      <td>0</td>\n",
       "    </tr>\n",
       "    <tr>\n",
       "      <th>2</th>\n",
       "      <td>1</td>\n",
       "      <td>1</td>\n",
       "      <td>yes</td>\n",
       "      <td>no</td>\n",
       "      <td>yes</td>\n",
       "      <td>8.333333</td>\n",
       "      <td>0</td>\n",
       "    </tr>\n",
       "    <tr>\n",
       "      <th>3</th>\n",
       "      <td>4</td>\n",
       "      <td>2</td>\n",
       "      <td>no</td>\n",
       "      <td>yes</td>\n",
       "      <td>yes</td>\n",
       "      <td>14.666667</td>\n",
       "      <td>1</td>\n",
       "    </tr>\n",
       "    <tr>\n",
       "      <th>4</th>\n",
       "      <td>3</td>\n",
       "      <td>3</td>\n",
       "      <td>no</td>\n",
       "      <td>yes</td>\n",
       "      <td>yes</td>\n",
       "      <td>8.666667</td>\n",
       "      <td>0</td>\n",
       "    </tr>\n",
       "  </tbody>\n",
       "</table>\n",
       "</div>"
      ],
      "text/plain": [
       "   Medu  Fedu schoolsup famsup paid  final_grade  exam_passed\n",
       "0     4     4       yes     no   no     5.666667            0\n",
       "1     1     1        no    yes   no     5.333333            0\n",
       "2     1     1       yes     no  yes     8.333333            0\n",
       "3     4     2        no    yes  yes    14.666667            1\n",
       "4     3     3        no    yes  yes     8.666667            0"
      ]
     },
     "execution_count": 149,
     "metadata": {},
     "output_type": "execute_result"
    }
   ],
   "source": [
    "data_exp.head()"
   ]
  },
  {
   "cell_type": "code",
   "execution_count": 150,
   "id": "98faf6de",
   "metadata": {},
   "outputs": [],
   "source": [
    "data_exp['parents_edu'] = data_exp['Medu'] + data_exp['Fedu']"
   ]
  },
  {
   "cell_type": "markdown",
   "id": "f846d715",
   "metadata": {},
   "source": [
    "Define parents education level as:\n",
    "higher education - 7 or 8\n",
    "secondary education - 4, 5, 6\n",
    "low or no education - 0, 1, 2, 3"
   ]
  },
  {
   "cell_type": "code",
   "execution_count": 151,
   "id": "5679b780",
   "metadata": {},
   "outputs": [
    {
     "data": {
      "text/html": [
       "<div>\n",
       "<style scoped>\n",
       "    .dataframe tbody tr th:only-of-type {\n",
       "        vertical-align: middle;\n",
       "    }\n",
       "\n",
       "    .dataframe tbody tr th {\n",
       "        vertical-align: top;\n",
       "    }\n",
       "\n",
       "    .dataframe thead th {\n",
       "        text-align: right;\n",
       "    }\n",
       "</style>\n",
       "<table border=\"1\" class=\"dataframe\">\n",
       "  <thead>\n",
       "    <tr style=\"text-align: right;\">\n",
       "      <th></th>\n",
       "      <th>Medu</th>\n",
       "      <th>Fedu</th>\n",
       "      <th>schoolsup</th>\n",
       "      <th>famsup</th>\n",
       "      <th>paid</th>\n",
       "      <th>final_grade</th>\n",
       "      <th>exam_passed</th>\n",
       "      <th>parents_edu</th>\n",
       "    </tr>\n",
       "  </thead>\n",
       "  <tbody>\n",
       "    <tr>\n",
       "      <th>0</th>\n",
       "      <td>4</td>\n",
       "      <td>4</td>\n",
       "      <td>yes</td>\n",
       "      <td>no</td>\n",
       "      <td>no</td>\n",
       "      <td>5.666667</td>\n",
       "      <td>0</td>\n",
       "      <td>8</td>\n",
       "    </tr>\n",
       "    <tr>\n",
       "      <th>1</th>\n",
       "      <td>1</td>\n",
       "      <td>1</td>\n",
       "      <td>no</td>\n",
       "      <td>yes</td>\n",
       "      <td>no</td>\n",
       "      <td>5.333333</td>\n",
       "      <td>0</td>\n",
       "      <td>2</td>\n",
       "    </tr>\n",
       "    <tr>\n",
       "      <th>2</th>\n",
       "      <td>1</td>\n",
       "      <td>1</td>\n",
       "      <td>yes</td>\n",
       "      <td>no</td>\n",
       "      <td>yes</td>\n",
       "      <td>8.333333</td>\n",
       "      <td>0</td>\n",
       "      <td>2</td>\n",
       "    </tr>\n",
       "    <tr>\n",
       "      <th>3</th>\n",
       "      <td>4</td>\n",
       "      <td>2</td>\n",
       "      <td>no</td>\n",
       "      <td>yes</td>\n",
       "      <td>yes</td>\n",
       "      <td>14.666667</td>\n",
       "      <td>1</td>\n",
       "      <td>6</td>\n",
       "    </tr>\n",
       "    <tr>\n",
       "      <th>4</th>\n",
       "      <td>3</td>\n",
       "      <td>3</td>\n",
       "      <td>no</td>\n",
       "      <td>yes</td>\n",
       "      <td>yes</td>\n",
       "      <td>8.666667</td>\n",
       "      <td>0</td>\n",
       "      <td>6</td>\n",
       "    </tr>\n",
       "  </tbody>\n",
       "</table>\n",
       "</div>"
      ],
      "text/plain": [
       "   Medu  Fedu schoolsup famsup paid  final_grade  exam_passed  parents_edu\n",
       "0     4     4       yes     no   no     5.666667            0            8\n",
       "1     1     1        no    yes   no     5.333333            0            2\n",
       "2     1     1       yes     no  yes     8.333333            0            2\n",
       "3     4     2        no    yes  yes    14.666667            1            6\n",
       "4     3     3        no    yes  yes     8.666667            0            6"
      ]
     },
     "execution_count": 151,
     "metadata": {},
     "output_type": "execute_result"
    }
   ],
   "source": [
    "data_exp.head()"
   ]
  },
  {
   "cell_type": "code",
   "execution_count": 152,
   "id": "fb1c7deb",
   "metadata": {},
   "outputs": [
    {
     "name": "stderr",
     "output_type": "stream",
     "text": [
      "<ipython-input-152-81e7ed96c000>:9: SettingWithCopyWarning: \n",
      "A value is trying to be set on a copy of a slice from a DataFrame\n",
      "\n",
      "See the caveats in the documentation: https://pandas.pydata.org/pandas-docs/stable/user_guide/indexing.html#returning-a-view-versus-a-copy\n",
      "  data_exp['parents_edu_lvl'][edu_idx] = 'low'\n",
      "<ipython-input-152-81e7ed96c000>:7: SettingWithCopyWarning: \n",
      "A value is trying to be set on a copy of a slice from a DataFrame\n",
      "\n",
      "See the caveats in the documentation: https://pandas.pydata.org/pandas-docs/stable/user_guide/indexing.html#returning-a-view-versus-a-copy\n",
      "  data_exp['parents_edu_lvl'][edu_idx] = 'medium'\n"
     ]
    }
   ],
   "source": [
    "data_exp['parents_edu_lvl'] = ''\n",
    "\n",
    "for edu_idx in data_exp['parents_edu'].index:\n",
    "    if data_exp['parents_edu'][edu_idx] >= 7:\n",
    "        data_exp['parents_edu_lvl'] = 'high'\n",
    "    elif 4 <= data_exp['parents_edu'][edu_idx] <= 6:\n",
    "        data_exp['parents_edu_lvl'][edu_idx] = 'medium'\n",
    "    else:\n",
    "        data_exp['parents_edu_lvl'][edu_idx] = 'low'"
   ]
  },
  {
   "cell_type": "code",
   "execution_count": 153,
   "id": "5deca8bc",
   "metadata": {},
   "outputs": [
    {
     "data": {
      "text/html": [
       "<div>\n",
       "<style scoped>\n",
       "    .dataframe tbody tr th:only-of-type {\n",
       "        vertical-align: middle;\n",
       "    }\n",
       "\n",
       "    .dataframe tbody tr th {\n",
       "        vertical-align: top;\n",
       "    }\n",
       "\n",
       "    .dataframe thead th {\n",
       "        text-align: right;\n",
       "    }\n",
       "</style>\n",
       "<table border=\"1\" class=\"dataframe\">\n",
       "  <thead>\n",
       "    <tr style=\"text-align: right;\">\n",
       "      <th></th>\n",
       "      <th>Medu</th>\n",
       "      <th>Fedu</th>\n",
       "      <th>schoolsup</th>\n",
       "      <th>famsup</th>\n",
       "      <th>paid</th>\n",
       "      <th>final_grade</th>\n",
       "      <th>exam_passed</th>\n",
       "      <th>parents_edu</th>\n",
       "      <th>parents_edu_lvl</th>\n",
       "    </tr>\n",
       "  </thead>\n",
       "  <tbody>\n",
       "    <tr>\n",
       "      <th>0</th>\n",
       "      <td>4</td>\n",
       "      <td>4</td>\n",
       "      <td>yes</td>\n",
       "      <td>no</td>\n",
       "      <td>no</td>\n",
       "      <td>5.666667</td>\n",
       "      <td>0</td>\n",
       "      <td>8</td>\n",
       "      <td>high</td>\n",
       "    </tr>\n",
       "    <tr>\n",
       "      <th>1</th>\n",
       "      <td>1</td>\n",
       "      <td>1</td>\n",
       "      <td>no</td>\n",
       "      <td>yes</td>\n",
       "      <td>no</td>\n",
       "      <td>5.333333</td>\n",
       "      <td>0</td>\n",
       "      <td>2</td>\n",
       "      <td>high</td>\n",
       "    </tr>\n",
       "    <tr>\n",
       "      <th>2</th>\n",
       "      <td>1</td>\n",
       "      <td>1</td>\n",
       "      <td>yes</td>\n",
       "      <td>no</td>\n",
       "      <td>yes</td>\n",
       "      <td>8.333333</td>\n",
       "      <td>0</td>\n",
       "      <td>2</td>\n",
       "      <td>high</td>\n",
       "    </tr>\n",
       "    <tr>\n",
       "      <th>3</th>\n",
       "      <td>4</td>\n",
       "      <td>2</td>\n",
       "      <td>no</td>\n",
       "      <td>yes</td>\n",
       "      <td>yes</td>\n",
       "      <td>14.666667</td>\n",
       "      <td>1</td>\n",
       "      <td>6</td>\n",
       "      <td>high</td>\n",
       "    </tr>\n",
       "    <tr>\n",
       "      <th>4</th>\n",
       "      <td>3</td>\n",
       "      <td>3</td>\n",
       "      <td>no</td>\n",
       "      <td>yes</td>\n",
       "      <td>yes</td>\n",
       "      <td>8.666667</td>\n",
       "      <td>0</td>\n",
       "      <td>6</td>\n",
       "      <td>high</td>\n",
       "    </tr>\n",
       "  </tbody>\n",
       "</table>\n",
       "</div>"
      ],
      "text/plain": [
       "   Medu  Fedu schoolsup famsup paid  final_grade  exam_passed  parents_edu  \\\n",
       "0     4     4       yes     no   no     5.666667            0            8   \n",
       "1     1     1        no    yes   no     5.333333            0            2   \n",
       "2     1     1       yes     no  yes     8.333333            0            2   \n",
       "3     4     2        no    yes  yes    14.666667            1            6   \n",
       "4     3     3        no    yes  yes     8.666667            0            6   \n",
       "\n",
       "  parents_edu_lvl  \n",
       "0            high  \n",
       "1            high  \n",
       "2            high  \n",
       "3            high  \n",
       "4            high  "
      ]
     },
     "execution_count": 153,
     "metadata": {},
     "output_type": "execute_result"
    }
   ],
   "source": [
    "data_exp.head()"
   ]
  },
  {
   "cell_type": "code",
   "execution_count": 154,
   "id": "dd64a227",
   "metadata": {},
   "outputs": [],
   "source": [
    "data_exp.drop(['Medu', 'Fedu'], axis =1, inplace=True)"
   ]
  },
  {
   "cell_type": "code",
   "execution_count": 155,
   "id": "08873991",
   "metadata": {},
   "outputs": [
    {
     "data": {
      "text/html": [
       "<div>\n",
       "<style scoped>\n",
       "    .dataframe tbody tr th:only-of-type {\n",
       "        vertical-align: middle;\n",
       "    }\n",
       "\n",
       "    .dataframe tbody tr th {\n",
       "        vertical-align: top;\n",
       "    }\n",
       "\n",
       "    .dataframe thead th {\n",
       "        text-align: right;\n",
       "    }\n",
       "</style>\n",
       "<table border=\"1\" class=\"dataframe\">\n",
       "  <thead>\n",
       "    <tr style=\"text-align: right;\">\n",
       "      <th></th>\n",
       "      <th>schoolsup</th>\n",
       "      <th>famsup</th>\n",
       "      <th>paid</th>\n",
       "      <th>final_grade</th>\n",
       "      <th>exam_passed</th>\n",
       "      <th>parents_edu</th>\n",
       "      <th>parents_edu_lvl</th>\n",
       "    </tr>\n",
       "  </thead>\n",
       "  <tbody>\n",
       "    <tr>\n",
       "      <th>0</th>\n",
       "      <td>yes</td>\n",
       "      <td>no</td>\n",
       "      <td>no</td>\n",
       "      <td>5.666667</td>\n",
       "      <td>0</td>\n",
       "      <td>8</td>\n",
       "      <td>high</td>\n",
       "    </tr>\n",
       "    <tr>\n",
       "      <th>1</th>\n",
       "      <td>no</td>\n",
       "      <td>yes</td>\n",
       "      <td>no</td>\n",
       "      <td>5.333333</td>\n",
       "      <td>0</td>\n",
       "      <td>2</td>\n",
       "      <td>high</td>\n",
       "    </tr>\n",
       "    <tr>\n",
       "      <th>2</th>\n",
       "      <td>yes</td>\n",
       "      <td>no</td>\n",
       "      <td>yes</td>\n",
       "      <td>8.333333</td>\n",
       "      <td>0</td>\n",
       "      <td>2</td>\n",
       "      <td>high</td>\n",
       "    </tr>\n",
       "    <tr>\n",
       "      <th>3</th>\n",
       "      <td>no</td>\n",
       "      <td>yes</td>\n",
       "      <td>yes</td>\n",
       "      <td>14.666667</td>\n",
       "      <td>1</td>\n",
       "      <td>6</td>\n",
       "      <td>high</td>\n",
       "    </tr>\n",
       "    <tr>\n",
       "      <th>4</th>\n",
       "      <td>no</td>\n",
       "      <td>yes</td>\n",
       "      <td>yes</td>\n",
       "      <td>8.666667</td>\n",
       "      <td>0</td>\n",
       "      <td>6</td>\n",
       "      <td>high</td>\n",
       "    </tr>\n",
       "  </tbody>\n",
       "</table>\n",
       "</div>"
      ],
      "text/plain": [
       "  schoolsup famsup paid  final_grade  exam_passed  parents_edu parents_edu_lvl\n",
       "0       yes     no   no     5.666667            0            8            high\n",
       "1        no    yes   no     5.333333            0            2            high\n",
       "2       yes     no  yes     8.333333            0            2            high\n",
       "3        no    yes  yes    14.666667            1            6            high\n",
       "4        no    yes  yes     8.666667            0            6            high"
      ]
     },
     "execution_count": 155,
     "metadata": {},
     "output_type": "execute_result"
    }
   ],
   "source": [
    "data_exp.head()"
   ]
  },
  {
   "cell_type": "code",
   "execution_count": 156,
   "id": "a203814f",
   "metadata": {},
   "outputs": [
    {
     "name": "stderr",
     "output_type": "stream",
     "text": [
      "<ipython-input-156-6e47d9200de6>:9: SettingWithCopyWarning: \n",
      "A value is trying to be set on a copy of a slice from a DataFrame\n",
      "\n",
      "See the caveats in the documentation: https://pandas.pydata.org/pandas-docs/stable/user_guide/indexing.html#returning-a-view-versus-a-copy\n",
      "  data_exp['grade_lvl'][edu_idx] = 'low'\n",
      "<ipython-input-156-6e47d9200de6>:7: SettingWithCopyWarning: \n",
      "A value is trying to be set on a copy of a slice from a DataFrame\n",
      "\n",
      "See the caveats in the documentation: https://pandas.pydata.org/pandas-docs/stable/user_guide/indexing.html#returning-a-view-versus-a-copy\n",
      "  data_exp['grade_lvl'][edu_idx] = 'average'\n",
      "<ipython-input-156-6e47d9200de6>:5: SettingWithCopyWarning: \n",
      "A value is trying to be set on a copy of a slice from a DataFrame\n",
      "\n",
      "See the caveats in the documentation: https://pandas.pydata.org/pandas-docs/stable/user_guide/indexing.html#returning-a-view-versus-a-copy\n",
      "  data_exp['grade_lvl'][edu_idx] = 'high'\n"
     ]
    }
   ],
   "source": [
    "data_exp['grade_lvl'] = ''\n",
    "\n",
    "for edu_idx in data_exp['final_grade'].index:\n",
    "    if data_exp['final_grade'][edu_idx] >= 18:\n",
    "        data_exp['grade_lvl'][edu_idx] = 'high'\n",
    "    elif 10 <= data_exp['final_grade'][edu_idx] < 18:\n",
    "        data_exp['grade_lvl'][edu_idx] = 'average'\n",
    "    else:\n",
    "        data_exp['grade_lvl'][edu_idx] = 'low'"
   ]
  },
  {
   "cell_type": "code",
   "execution_count": 157,
   "id": "d1061728",
   "metadata": {},
   "outputs": [],
   "source": [
    "data_exp.drop(['final_grade', 'parents_edu'], axis =1, inplace=True)"
   ]
  },
  {
   "cell_type": "code",
   "execution_count": 158,
   "id": "08029d54",
   "metadata": {},
   "outputs": [
    {
     "data": {
      "text/html": [
       "<div>\n",
       "<style scoped>\n",
       "    .dataframe tbody tr th:only-of-type {\n",
       "        vertical-align: middle;\n",
       "    }\n",
       "\n",
       "    .dataframe tbody tr th {\n",
       "        vertical-align: top;\n",
       "    }\n",
       "\n",
       "    .dataframe thead th {\n",
       "        text-align: right;\n",
       "    }\n",
       "</style>\n",
       "<table border=\"1\" class=\"dataframe\">\n",
       "  <thead>\n",
       "    <tr style=\"text-align: right;\">\n",
       "      <th></th>\n",
       "      <th>schoolsup</th>\n",
       "      <th>famsup</th>\n",
       "      <th>paid</th>\n",
       "      <th>exam_passed</th>\n",
       "      <th>parents_edu_lvl</th>\n",
       "      <th>grade_lvl</th>\n",
       "    </tr>\n",
       "  </thead>\n",
       "  <tbody>\n",
       "    <tr>\n",
       "      <th>0</th>\n",
       "      <td>yes</td>\n",
       "      <td>no</td>\n",
       "      <td>no</td>\n",
       "      <td>0</td>\n",
       "      <td>high</td>\n",
       "      <td>low</td>\n",
       "    </tr>\n",
       "    <tr>\n",
       "      <th>1</th>\n",
       "      <td>no</td>\n",
       "      <td>yes</td>\n",
       "      <td>no</td>\n",
       "      <td>0</td>\n",
       "      <td>high</td>\n",
       "      <td>low</td>\n",
       "    </tr>\n",
       "    <tr>\n",
       "      <th>2</th>\n",
       "      <td>yes</td>\n",
       "      <td>no</td>\n",
       "      <td>yes</td>\n",
       "      <td>0</td>\n",
       "      <td>high</td>\n",
       "      <td>low</td>\n",
       "    </tr>\n",
       "    <tr>\n",
       "      <th>3</th>\n",
       "      <td>no</td>\n",
       "      <td>yes</td>\n",
       "      <td>yes</td>\n",
       "      <td>1</td>\n",
       "      <td>high</td>\n",
       "      <td>average</td>\n",
       "    </tr>\n",
       "    <tr>\n",
       "      <th>4</th>\n",
       "      <td>no</td>\n",
       "      <td>yes</td>\n",
       "      <td>yes</td>\n",
       "      <td>0</td>\n",
       "      <td>high</td>\n",
       "      <td>low</td>\n",
       "    </tr>\n",
       "  </tbody>\n",
       "</table>\n",
       "</div>"
      ],
      "text/plain": [
       "  schoolsup famsup paid  exam_passed parents_edu_lvl grade_lvl\n",
       "0       yes     no   no            0            high       low\n",
       "1        no    yes   no            0            high       low\n",
       "2       yes     no  yes            0            high       low\n",
       "3        no    yes  yes            1            high   average\n",
       "4        no    yes  yes            0            high       low"
      ]
     },
     "execution_count": 158,
     "metadata": {},
     "output_type": "execute_result"
    }
   ],
   "source": [
    "data_exp.head()"
   ]
  },
  {
   "cell_type": "code",
   "execution_count": 176,
   "id": "2d4071ac",
   "metadata": {},
   "outputs": [
    {
     "name": "stderr",
     "output_type": "stream",
     "text": [
      "<ipython-input-176-d8e306173a14>:6: SettingWithCopyWarning: \n",
      "A value is trying to be set on a copy of a slice from a DataFrame\n",
      "\n",
      "See the caveats in the documentation: https://pandas.pydata.org/pandas-docs/stable/user_guide/indexing.html#returning-a-view-versus-a-copy\n",
      "  exp_info['schoolsupp'][i] = '1'\n"
     ]
    }
   ],
   "source": [
    "exp_info = data_exp.copy()\n",
    "\n",
    "exp_info['schoolsupp'] = '0'\n",
    "for i in data_exp['schoolsup'].index:\n",
    "    if data_exp['schoolsup'][i] == 'yes':\n",
    "        exp_info['schoolsupp'][i] = '1'\n",
    "    \n",
    "exp_info.drop('schoolsup', axis=1, inplace=True)"
   ]
  },
  {
   "cell_type": "code",
   "execution_count": 177,
   "id": "341bf663",
   "metadata": {},
   "outputs": [
    {
     "name": "stderr",
     "output_type": "stream",
     "text": [
      "<ipython-input-177-8596fa882859>:4: SettingWithCopyWarning: \n",
      "A value is trying to be set on a copy of a slice from a DataFrame\n",
      "\n",
      "See the caveats in the documentation: https://pandas.pydata.org/pandas-docs/stable/user_guide/indexing.html#returning-a-view-versus-a-copy\n",
      "  exp_info['famsupp'][i] = '1'\n"
     ]
    }
   ],
   "source": [
    "exp_info['famsupp'] = '0'\n",
    "for i in data_exp['famsup'].index:\n",
    "    if data_exp['famsup'][i] == 'yes':\n",
    "        exp_info['famsupp'][i] = '1'\n",
    "    \n",
    "exp_info.drop('famsup', axis=1, inplace=True)"
   ]
  },
  {
   "cell_type": "code",
   "execution_count": 178,
   "id": "807be0b2",
   "metadata": {},
   "outputs": [
    {
     "name": "stderr",
     "output_type": "stream",
     "text": [
      "<ipython-input-178-14342d5b1345>:4: SettingWithCopyWarning: \n",
      "A value is trying to be set on a copy of a slice from a DataFrame\n",
      "\n",
      "See the caveats in the documentation: https://pandas.pydata.org/pandas-docs/stable/user_guide/indexing.html#returning-a-view-versus-a-copy\n",
      "  exp_info['paidsupp'][i] = '1'\n"
     ]
    }
   ],
   "source": [
    "exp_info['paidsupp'] = '0'\n",
    "for i in data_exp['paid'].index:\n",
    "    if data_exp['paid'][i] == 'yes':\n",
    "        exp_info['paidsupp'][i] = '1'\n",
    "    \n",
    "exp_info.drop('paid', axis=1, inplace=True)"
   ]
  },
  {
   "cell_type": "code",
   "execution_count": 179,
   "id": "b45c68dd",
   "metadata": {},
   "outputs": [
    {
     "name": "stderr",
     "output_type": "stream",
     "text": [
      "<ipython-input-179-1bb0b03acb6b>:4: SettingWithCopyWarning: \n",
      "A value is trying to be set on a copy of a slice from a DataFrame\n",
      "\n",
      "See the caveats in the documentation: https://pandas.pydata.org/pandas-docs/stable/user_guide/indexing.html#returning-a-view-versus-a-copy\n",
      "  exp_info['parent_high'][i] = '1'\n",
      "<ipython-input-179-1bb0b03acb6b>:9: SettingWithCopyWarning: \n",
      "A value is trying to be set on a copy of a slice from a DataFrame\n",
      "\n",
      "See the caveats in the documentation: https://pandas.pydata.org/pandas-docs/stable/user_guide/indexing.html#returning-a-view-versus-a-copy\n",
      "  exp_info['parent_medium'][i] = '1'\n",
      "<ipython-input-179-1bb0b03acb6b>:14: SettingWithCopyWarning: \n",
      "A value is trying to be set on a copy of a slice from a DataFrame\n",
      "\n",
      "See the caveats in the documentation: https://pandas.pydata.org/pandas-docs/stable/user_guide/indexing.html#returning-a-view-versus-a-copy\n",
      "  exp_info['parent_low'][i] = '1'\n"
     ]
    }
   ],
   "source": [
    "exp_info['parent_high'] = '0'\n",
    "for i in data_exp['parents_edu_lvl'].index:\n",
    "    if data_exp['parents_edu_lvl'][i] == 'high':\n",
    "        exp_info['parent_high'][i] = '1'\n",
    "        \n",
    "exp_info['parent_medium'] = '0'\n",
    "for i in data_exp['parents_edu_lvl'].index:\n",
    "    if data_exp['parents_edu_lvl'][i] == 'medium':\n",
    "        exp_info['parent_medium'][i] = '1'\n",
    "        \n",
    "exp_info['parent_low'] = '0'\n",
    "for i in data_exp['parents_edu_lvl'].index:\n",
    "    if data_exp['parents_edu_lvl'][i] == 'low':\n",
    "        exp_info['parent_low'][i] = '1'\n",
    "    \n",
    "exp_info.drop('parents_edu_lvl', axis=1, inplace=True)"
   ]
  },
  {
   "cell_type": "code",
   "execution_count": 181,
   "id": "21b336e9",
   "metadata": {},
   "outputs": [
    {
     "name": "stderr",
     "output_type": "stream",
     "text": [
      "<ipython-input-181-9f6143f81ec2>:4: SettingWithCopyWarning: \n",
      "A value is trying to be set on a copy of a slice from a DataFrame\n",
      "\n",
      "See the caveats in the documentation: https://pandas.pydata.org/pandas-docs/stable/user_guide/indexing.html#returning-a-view-versus-a-copy\n",
      "  exp_info['grade_high'][i] = '1'\n",
      "<ipython-input-181-9f6143f81ec2>:9: SettingWithCopyWarning: \n",
      "A value is trying to be set on a copy of a slice from a DataFrame\n",
      "\n",
      "See the caveats in the documentation: https://pandas.pydata.org/pandas-docs/stable/user_guide/indexing.html#returning-a-view-versus-a-copy\n",
      "  exp_info['grade_medium'][i] = '1'\n",
      "<ipython-input-181-9f6143f81ec2>:14: SettingWithCopyWarning: \n",
      "A value is trying to be set on a copy of a slice from a DataFrame\n",
      "\n",
      "See the caveats in the documentation: https://pandas.pydata.org/pandas-docs/stable/user_guide/indexing.html#returning-a-view-versus-a-copy\n",
      "  exp_info['grade_low'][i] = '1'\n"
     ]
    }
   ],
   "source": [
    "exp_info['grade_high'] = '0'\n",
    "for i in data_exp['grade_lvl'].index:\n",
    "    if data_exp['grade_lvl'][i] == 'high':\n",
    "        exp_info['grade_high'][i] = '1'\n",
    "        \n",
    "exp_info['grade_medium'] = '0'\n",
    "for i in data_exp['grade_lvl'].index:\n",
    "    if data_exp['grade_lvl'][i] == 'average':\n",
    "        exp_info['grade_medium'][i] = '1'\n",
    "        \n",
    "exp_info['grade_low'] = '0'\n",
    "for i in data_exp['grade_lvl'].index:\n",
    "    if data_exp['grade_lvl'][i] == 'low':\n",
    "        exp_info['grade_low'][i] = '1'\n",
    "    \n",
    "exp_info.drop('grade_lvl', axis=1, inplace=True)"
   ]
  },
  {
   "cell_type": "code",
   "execution_count": 182,
   "id": "59bb3a58",
   "metadata": {},
   "outputs": [
    {
     "data": {
      "text/html": [
       "<div>\n",
       "<style scoped>\n",
       "    .dataframe tbody tr th:only-of-type {\n",
       "        vertical-align: middle;\n",
       "    }\n",
       "\n",
       "    .dataframe tbody tr th {\n",
       "        vertical-align: top;\n",
       "    }\n",
       "\n",
       "    .dataframe thead th {\n",
       "        text-align: right;\n",
       "    }\n",
       "</style>\n",
       "<table border=\"1\" class=\"dataframe\">\n",
       "  <thead>\n",
       "    <tr style=\"text-align: right;\">\n",
       "      <th></th>\n",
       "      <th>exam_passed</th>\n",
       "      <th>schoolsupp</th>\n",
       "      <th>famsupp</th>\n",
       "      <th>paidsupp</th>\n",
       "      <th>parent_high</th>\n",
       "      <th>parent_medium</th>\n",
       "      <th>parent_low</th>\n",
       "      <th>grade_high</th>\n",
       "      <th>grade_medium</th>\n",
       "      <th>grade_low</th>\n",
       "    </tr>\n",
       "  </thead>\n",
       "  <tbody>\n",
       "    <tr>\n",
       "      <th>0</th>\n",
       "      <td>0</td>\n",
       "      <td>1</td>\n",
       "      <td>0</td>\n",
       "      <td>0</td>\n",
       "      <td>1</td>\n",
       "      <td>0</td>\n",
       "      <td>0</td>\n",
       "      <td>0</td>\n",
       "      <td>0</td>\n",
       "      <td>1</td>\n",
       "    </tr>\n",
       "    <tr>\n",
       "      <th>1</th>\n",
       "      <td>0</td>\n",
       "      <td>0</td>\n",
       "      <td>1</td>\n",
       "      <td>0</td>\n",
       "      <td>1</td>\n",
       "      <td>0</td>\n",
       "      <td>0</td>\n",
       "      <td>0</td>\n",
       "      <td>0</td>\n",
       "      <td>1</td>\n",
       "    </tr>\n",
       "    <tr>\n",
       "      <th>2</th>\n",
       "      <td>0</td>\n",
       "      <td>1</td>\n",
       "      <td>0</td>\n",
       "      <td>1</td>\n",
       "      <td>1</td>\n",
       "      <td>0</td>\n",
       "      <td>0</td>\n",
       "      <td>0</td>\n",
       "      <td>0</td>\n",
       "      <td>1</td>\n",
       "    </tr>\n",
       "    <tr>\n",
       "      <th>3</th>\n",
       "      <td>1</td>\n",
       "      <td>0</td>\n",
       "      <td>1</td>\n",
       "      <td>1</td>\n",
       "      <td>1</td>\n",
       "      <td>0</td>\n",
       "      <td>0</td>\n",
       "      <td>0</td>\n",
       "      <td>1</td>\n",
       "      <td>0</td>\n",
       "    </tr>\n",
       "    <tr>\n",
       "      <th>4</th>\n",
       "      <td>0</td>\n",
       "      <td>0</td>\n",
       "      <td>1</td>\n",
       "      <td>1</td>\n",
       "      <td>1</td>\n",
       "      <td>0</td>\n",
       "      <td>0</td>\n",
       "      <td>0</td>\n",
       "      <td>0</td>\n",
       "      <td>1</td>\n",
       "    </tr>\n",
       "  </tbody>\n",
       "</table>\n",
       "</div>"
      ],
      "text/plain": [
       "   exam_passed schoolsupp famsupp paidsupp parent_high parent_medium  \\\n",
       "0            0          1       0        0           1             0   \n",
       "1            0          0       1        0           1             0   \n",
       "2            0          1       0        1           1             0   \n",
       "3            1          0       1        1           1             0   \n",
       "4            0          0       1        1           1             0   \n",
       "\n",
       "  parent_low grade_high grade_medium grade_low  \n",
       "0          0          0            0         1  \n",
       "1          0          0            0         1  \n",
       "2          0          0            0         1  \n",
       "3          0          0            1         0  \n",
       "4          0          0            0         1  "
      ]
     },
     "execution_count": 182,
     "metadata": {},
     "output_type": "execute_result"
    }
   ],
   "source": [
    "exp_info.head()"
   ]
  },
  {
   "cell_type": "code",
   "execution_count": 183,
   "id": "a929ee02",
   "metadata": {},
   "outputs": [],
   "source": [
    "# prepapre csv file for importing in Concept explorer\n",
    "\n",
    "f = open('student_performance_exp.csv', 'w')\n",
    "\n",
    "for col in exp_info.columns:\n",
    "    f.write(\";\" + col)\n",
    "    \n",
    "f.write(\"\\n\")\n",
    "\n",
    "for row_idx in exp_info.index:\n",
    "    \n",
    "    f.write(str(row_idx) + \";\" + str(exp_info['exam_passed'][row_idx]) + \";\" + str(exp_info['schoolsupp'][row_idx]) + \";\" + str(exp_info['famsupp'][row_idx]) + \";\" + str(exp_info['paidsupp'][row_idx]) + \";\" + str(exp_info['parent_high'][row_idx]) + \";\" + str(exp_info['parent_medium'][row_idx]) + \";\" + str(exp_info['parent_low'][row_idx]) + \";\" + str(exp_info['grade_high'][row_idx]) + \";\" + str(exp_info['grade_medium'][row_idx]) + \";\" + str(exp_info['grade_low'][row_idx]) + \"\\n\")\n",
    "    \n",
    "f.close()"
   ]
  },
  {
   "cell_type": "code",
   "execution_count": 188,
   "id": "5b0e68b3",
   "metadata": {},
   "outputs": [],
   "source": [
    "data_grade = data_exp.query('grade_lvl==\"high\"')"
   ]
  },
  {
   "cell_type": "code",
   "execution_count": 191,
   "id": "7d09ced2",
   "metadata": {},
   "outputs": [
    {
     "data": {
      "text/plain": [
       "array(['high'], dtype=object)"
      ]
     },
     "execution_count": 191,
     "metadata": {},
     "output_type": "execute_result"
    }
   ],
   "source": [
    "data_grade.parents_edu_lvl.unique()"
   ]
  },
  {
   "cell_type": "code",
   "execution_count": 193,
   "id": "177014f5",
   "metadata": {},
   "outputs": [],
   "source": [
    "data_parent_low = data_exp.query('parents_edu_lvl==\"low\"')"
   ]
  },
  {
   "cell_type": "code",
   "execution_count": 194,
   "id": "7554b5e0",
   "metadata": {},
   "outputs": [
    {
     "data": {
      "text/plain": [
       "array(['low'], dtype=object)"
      ]
     },
     "execution_count": 194,
     "metadata": {},
     "output_type": "execute_result"
    }
   ],
   "source": [
    "data_parent_low.grade_lvl.unique()"
   ]
  },
  {
   "cell_type": "markdown",
   "id": "9ff8716e",
   "metadata": {},
   "source": [
    "## Preparation of triadic dataset"
   ]
  },
  {
   "cell_type": "code",
   "execution_count": 199,
   "id": "916cccaa",
   "metadata": {},
   "outputs": [],
   "source": [
    "f = open('student_triadic.csv', 'w')\n",
    "\n",
    "for i,row in exp_info.iterrows():\n",
    "    student_name = 'student_' + str(i)\n",
    "    if row['schoolsupp'] == '1':\n",
    "        s = student_name + ',schoolsupport,' + str(row['exam_passed']) + '\\n'\n",
    "        f.write(s)\n",
    "    if row['famsupp'] == '1':\n",
    "        s = student_name + ',famsupport,' + str(row['exam_passed']) + '\\n'\n",
    "        f.write(s)\n",
    "    if row['paidsupp'] == '1':\n",
    "        s = student_name + ',paidsupport,' + str(row['exam_passed']) + '\\n'\n",
    "        f.write(s)\n",
    "    if row['parent_high'] == '1':\n",
    "        s = student_name + ',parenthigh,' + str(row['exam_passed']) + '\\n'\n",
    "        f.write(s)\n",
    "    if row['parent_medium'] == '1':\n",
    "        s = student_name + ',parentmedium,' + str(row['exam_passed']) + '\\n'\n",
    "        f.write(s)\n",
    "    if row['parent_low'] == '1':\n",
    "        s = student_name + ',parentlow,' + str(row['exam_passed']) + '\\n'\n",
    "        f.write(s)\n",
    "\n",
    "f.close()"
   ]
  },
  {
   "cell_type": "code",
   "execution_count": 200,
   "id": "9d613e89",
   "metadata": {},
   "outputs": [
    {
     "data": {
      "text/plain": [
       "(868, 3)"
      ]
     },
     "execution_count": 200,
     "metadata": {},
     "output_type": "execute_result"
    }
   ],
   "source": [
    "sd = pd.read_csv('student_triadic.csv')\n",
    "\n",
    "sd.shape"
   ]
  },
  {
   "cell_type": "code",
   "execution_count": null,
   "id": "381a292d",
   "metadata": {},
   "outputs": [],
   "source": []
  }
 ],
 "metadata": {
  "kernelspec": {
   "display_name": "Python 3.8.2 64-bit",
   "language": "python",
   "name": "python38264bitfb75bedeea284267a04d31362efbd8de"
  },
  "language_info": {
   "codemirror_mode": {
    "name": "ipython",
    "version": 3
   },
   "file_extension": ".py",
   "mimetype": "text/x-python",
   "name": "python",
   "nbconvert_exporter": "python",
   "pygments_lexer": "ipython3",
   "version": "3.8.10"
  }
 },
 "nbformat": 4,
 "nbformat_minor": 5
}
